{
 "cells": [
  {
   "cell_type": "markdown",
   "metadata": {},
   "source": [
    "# Main code"
   ]
  },
  {
   "cell_type": "markdown",
   "metadata": {},
   "source": [
    "## Imports"
   ]
  },
  {
   "cell_type": "code",
   "execution_count": 6,
   "metadata": {},
   "outputs": [],
   "source": [
    "# importing other folders & files\n",
    "import sys\n",
    "sys.path.append('./aerodynamic_loading')\n",
    "\n",
    "# importing packages\n",
    "import numpy as np\n",
    "import plotly.graph_objects as go\n",
    "import pandas as pd\n",
    "# from aero_load import *"
   ]
  },
  {
   "cell_type": "markdown",
   "metadata": {},
   "source": [
    "## Inputs"
   ]
  },
  {
   "cell_type": "markdown",
   "metadata": {},
   "source": [
    "### Geometric inputs:"
   ]
  },
  {
   "cell_type": "code",
   "execution_count": 7,
   "metadata": {},
   "outputs": [],
   "source": [
    "# Geometric inputs\n",
    "Ca  = 0.547   # [m]  Chord length aileron   A: 0.547   B: 0.605\n",
    "la  = 2.771   # [m]  Span aileron           A: 2.771   B: 2.661\n",
    "x1  = 0.153   # [m]  Location hinge 1       A: 0.153   B: 0.172\n",
    "x2  = 1.281   # [m]  Location hinge 2       A: 1.281   B: 1.211\n",
    "x3  = 2.681   # [m]  Location hinge 3       A: 2.681   B: 2.591\n",
    "xa  = 0.28    # [m]  Dist between A1 & A2   A: 0.28    B: 0.35\n",
    "h   = 0.225   # [m]  Height aileron         A: 0.225   B: 0.205\n",
    "tsk = 0.0011  # [m]  Skin thickness         A: 0.0011  B: 0.0011\n",
    "tsp = 0.0029  # [m]  Spar thickness         A: 0.0029  B: 0.0029\n",
    "tst = 0.0012  # [m]  Thickness stiffener    A: 0.0012  B: 0.0012\n",
    "hst = 0.015   # [m]  Height stiffener       A: 0.015   B: 0.016\n",
    "wst = 0.02    # [m]  Width stiffener        A: 0.02    B: 0.019\n",
    "nst = 17      # [-]  Number of stiffeners   A: 17      B: 15"
   ]
  },
  {
   "cell_type": "markdown",
   "metadata": {},
   "source": [
    "### Displacements:"
   ]
  },
  {
   "cell_type": "code",
   "execution_count": 8,
   "metadata": {},
   "outputs": [],
   "source": [
    "d1    = 0.01103  # [m]    Displacement hinge 1   A: 0.01103 B: 0.01154\n",
    "d3    = 0.01642  # [m]    Displacement hinge 3   A: 0.01642 B: 0.01840\n",
    "theta = 28       # [deg]  Max upward deflection  A: 26      B: 28"
   ]
  },
  {
   "cell_type": "markdown",
   "metadata": {},
   "source": [
    "### Loads:"
   ]
  },
  {
   "cell_type": "code",
   "execution_count": 9,
   "metadata": {},
   "outputs": [],
   "source": [
    "# Loads\n",
    "P = 91.7  # [kN]  Load actuator 2     A: 91.7     # B: 97.4\n"
   ]
  },
  {
   "cell_type": "code",
   "execution_count": null,
   "metadata": {},
   "outputs": [],
   "source": []
  },
  {
   "cell_type": "code",
   "execution_count": null,
   "metadata": {},
   "outputs": [],
   "source": []
  }
 ],
 "metadata": {
  "kernelspec": {
   "display_name": "Python 3",
   "language": "python",
   "name": "python3"
  },
  "language_info": {
   "codemirror_mode": {
    "name": "ipython",
    "version": 3
   },
   "file_extension": ".py",
   "mimetype": "text/x-python",
   "name": "python",
   "nbconvert_exporter": "python",
   "pygments_lexer": "ipython3",
   "version": "3.7.4"
  }
 },
 "nbformat": 4,
 "nbformat_minor": 2
}
